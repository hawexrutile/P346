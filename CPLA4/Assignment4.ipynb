{
 "cells": [
  {
   "cell_type": "markdown",
   "source": [
    "# Question 1"
   ],
   "metadata": {}
  },
  {
   "cell_type": "markdown",
   "source": [
    "a) using crout's method to find the solution of the equations"
   ],
   "metadata": {}
  },
  {
   "cell_type": "code",
   "execution_count": 1,
   "source": [
    "import DLUlib as lib\r\n",
    "mata=lib.read_Matrix('Q1A')\r\n",
    "print('The coefficient matrix A:')\r\n",
    "lib.display_Matrix(mata)\r\n",
    "matb=lib.read_Matrix('Q2B')\r\n",
    "print('The matrix containing constants')\r\n",
    "lib.display_Matrix(matb)\r\n",
    "print('The matrix containing solutions')\r\n",
    "lib.display_Matrix(lib.forwardbackwardsub_crouts(lib.lu_crouts(mata,matb)))"
   ],
   "outputs": [
    {
     "output_type": "stream",
     "name": "stdout",
     "text": [
      "The coefficient matrix A:\n",
      "1.00\t0.00\t1.00\t2.00\n",
      "0.00\t1.00\t-2.00\t0.00\n",
      "1.00\t2.00\t-1.00\t0.00\n",
      "2.00\t1.00\t3.00\t-2.00\n"
     ]
    },
    {
     "output_type": "error",
     "ename": "FileNotFoundError",
     "evalue": "[Errno 2] No such file or directory: 'Q2B'",
     "traceback": [
      "\u001b[1;31m---------------------------------------------------------------------------\u001b[0m",
      "\u001b[1;31mFileNotFoundError\u001b[0m                         Traceback (most recent call last)",
      "\u001b[1;32m~\\AppData\\Local\\Temp/ipykernel_6000/592114388.py\u001b[0m in \u001b[0;36m<module>\u001b[1;34m\u001b[0m\n\u001b[0;32m      3\u001b[0m \u001b[0mprint\u001b[0m\u001b[1;33m(\u001b[0m\u001b[1;34m'The coefficient matrix A:'\u001b[0m\u001b[1;33m)\u001b[0m\u001b[1;33m\u001b[0m\u001b[1;33m\u001b[0m\u001b[0m\n\u001b[0;32m      4\u001b[0m \u001b[0mlib\u001b[0m\u001b[1;33m.\u001b[0m\u001b[0mdisplay_Matrix\u001b[0m\u001b[1;33m(\u001b[0m\u001b[0mmata\u001b[0m\u001b[1;33m)\u001b[0m\u001b[1;33m\u001b[0m\u001b[1;33m\u001b[0m\u001b[0m\n\u001b[1;32m----> 5\u001b[1;33m \u001b[0mmatb\u001b[0m\u001b[1;33m=\u001b[0m\u001b[0mlib\u001b[0m\u001b[1;33m.\u001b[0m\u001b[0mread_Matrix\u001b[0m\u001b[1;33m(\u001b[0m\u001b[1;34m'Q2B'\u001b[0m\u001b[1;33m)\u001b[0m\u001b[1;33m\u001b[0m\u001b[1;33m\u001b[0m\u001b[0m\n\u001b[0m\u001b[0;32m      6\u001b[0m \u001b[0mprint\u001b[0m\u001b[1;33m(\u001b[0m\u001b[1;34m'The matrix containing constants'\u001b[0m\u001b[1;33m)\u001b[0m\u001b[1;33m\u001b[0m\u001b[1;33m\u001b[0m\u001b[0m\n\u001b[0;32m      7\u001b[0m \u001b[0mlib\u001b[0m\u001b[1;33m.\u001b[0m\u001b[0mdisplay_Matrix\u001b[0m\u001b[1;33m(\u001b[0m\u001b[0mmatb\u001b[0m\u001b[1;33m)\u001b[0m\u001b[1;33m\u001b[0m\u001b[1;33m\u001b[0m\u001b[0m\n",
      "\u001b[1;32mc:\\Users\\alanb\\Downloads\\New folder\\DLUlib.py\u001b[0m in \u001b[0;36mread_Matrix\u001b[1;34m(file_name)\u001b[0m\n\u001b[0;32m      7\u001b[0m '''\n\u001b[0;32m      8\u001b[0m \u001b[1;32mdef\u001b[0m \u001b[0mread_Matrix\u001b[0m\u001b[1;33m(\u001b[0m\u001b[0mfile_name\u001b[0m\u001b[1;33m)\u001b[0m\u001b[1;33m:\u001b[0m\u001b[1;33m\u001b[0m\u001b[1;33m\u001b[0m\u001b[0m\n\u001b[1;32m----> 9\u001b[1;33m     \u001b[0mfile\u001b[0m\u001b[1;33m=\u001b[0m\u001b[0mopen\u001b[0m\u001b[1;33m(\u001b[0m\u001b[0mfile_name\u001b[0m\u001b[1;33m,\u001b[0m\u001b[1;34m'r'\u001b[0m\u001b[1;33m)\u001b[0m\u001b[1;33m\u001b[0m\u001b[1;33m\u001b[0m\u001b[0m\n\u001b[0m\u001b[0;32m     10\u001b[0m     \u001b[0mmatrix\u001b[0m\u001b[1;33m=\u001b[0m\u001b[1;33m[\u001b[0m\u001b[1;33m]\u001b[0m\u001b[1;33m\u001b[0m\u001b[1;33m\u001b[0m\u001b[0m\n\u001b[0;32m     11\u001b[0m     \u001b[1;32mfor\u001b[0m \u001b[0mi\u001b[0m \u001b[1;32min\u001b[0m \u001b[0mfile\u001b[0m\u001b[1;33m:\u001b[0m\u001b[1;33m\u001b[0m\u001b[1;33m\u001b[0m\u001b[0m\n",
      "\u001b[1;31mFileNotFoundError\u001b[0m: [Errno 2] No such file or directory: 'Q2B'"
     ]
    }
   ],
   "metadata": {}
  },
  {
   "cell_type": "markdown",
   "source": [
    "a) using doolittle's method to find the solution of the equations"
   ],
   "metadata": {}
  },
  {
   "cell_type": "code",
   "execution_count": null,
   "source": [
    "import DLUlib.py as lib\r\n",
    "mata=lib.read_Matrix('Q1A')\r\n",
    "print('The coefficient matrix A:')\r\n",
    "lib.display_Matrix(mata)\r\n",
    "matb=lib.read_Matrix('Q1B')\r\n",
    "print('The matrix containing constants')\r\n",
    "lib.display_Matrix(matb)\r\n",
    "print('The matrix containing solutions')\r\n",
    "lib.display_Matrix(lib.forwardbackwardsub_doolittle(lib.lu_doolittle(mata,matb)))"
   ],
   "outputs": [
    {
     "output_type": "stream",
     "name": "stdout",
     "text": [
      "The coefficient matrix A:\n",
      "1.00\t0.00\t1.00\t2.00\n",
      "0.00\t1.00\t-2.00\t0.00\n",
      "1.00\t2.00\t-1.00\t0.00\n",
      "2.00\t1.00\t3.00\t-2.00\n",
      "The matrix containing constants\n",
      "6.00\n",
      "-3.00\n",
      "-2.00\n",
      "0.00\n",
      "The matrix containing solutions\n",
      "1.00\n",
      "-1.00\n",
      "1.00\n",
      "2.00\n"
     ]
    }
   ],
   "metadata": {}
  },
  {
   "cell_type": "markdown",
   "source": [
    "# Question 2"
   ],
   "metadata": {}
  },
  {
   "cell_type": "code",
   "execution_count": null,
   "source": [
    "import DLUlib as lib\r\n",
    "mata=lib.read_Matrix('Q2')\r\n",
    "print('The input matrix A:')\r\n",
    "lib.display_Matrix(mata)\r\n",
    "print('The inverse matrix A inverse:')\r\n",
    "lib.display_Matrix(lib.inverse_Matrix(mata))"
   ],
   "outputs": [
    {
     "output_type": "stream",
     "name": "stdout",
     "text": [
      "The input matrix A:\n",
      "0.00\t2.00\t8.00\t6.00\n",
      "0.00\t0.00\t1.00\t2.00\n",
      "0.00\t1.00\t0.00\t1.00\n",
      "3.00\t7.00\t1.00\t0.00\n",
      "The inverse matrix A inverse:\n",
      "-0.25\t1.67\t-1.83\t0.33\n",
      "0.08\t-0.67\t0.83\t0.00\n",
      "0.17\t-0.33\t-0.33\t0.00\n",
      "-0.08\t0.67\t0.17\t0.00\n"
     ]
    }
   ],
   "metadata": {}
  },
  {
   "cell_type": "markdown",
   "source": [
    "# Question 3"
   ],
   "metadata": {}
  },
  {
   "cell_type": "code",
   "execution_count": null,
   "source": [
    "import DLUlib as lib\r\n",
    "mata=lib.read_Matrix('Q3A')\r\n",
    "print('The coefficient matrix A:')\r\n",
    "lib.display_Matrix(mata)\r\n",
    "matb=lib.read_Matrix('Q3B')\r\n",
    "print('The matrix containing constants')\r\n",
    "lib.display_Matrix(matb)\r\n",
    "print('The matrix containing solutions')\r\n",
    "lib.display_Matrix(lib.forwardbackwardsub_cholesky(lib.lu_cholesky(mata,matb)))"
   ],
   "outputs": [
    {
     "output_type": "stream",
     "name": "stdout",
     "text": [
      "The coefficient matrix A:\n",
      "10.00\t1.00\t0.00\t2.50\n",
      "1.00\t12.00\t-0.30\t1.10\n",
      "0.00\t-0.30\t9.50\t0.00\n",
      "2.50\t1.10\t0.00\t6.00\n",
      "The matrix containing constants\n",
      "2.20\n",
      "2.85\n",
      "2.79\n",
      "2.87\n",
      "The matrix containing solutions\n",
      "0.10\n",
      "0.20\n",
      "0.30\n",
      "0.40\n"
     ]
    }
   ],
   "metadata": {}
  }
 ],
 "metadata": {
  "orig_nbformat": 4,
  "language_info": {
   "name": "python",
   "version": "3.9.6",
   "mimetype": "text/x-python",
   "codemirror_mode": {
    "name": "ipython",
    "version": 3
   },
   "pygments_lexer": "ipython3",
   "nbconvert_exporter": "python",
   "file_extension": ".py"
  },
  "kernelspec": {
   "name": "python3",
   "display_name": "Python 3.9.6 64-bit"
  },
  "interpreter": {
   "hash": "8c13cf1ab0d0c6ed0320625707c0eb33980cccb1b0d45ffd01b03c0b38c122dd"
  }
 },
 "nbformat": 4,
 "nbformat_minor": 2
}